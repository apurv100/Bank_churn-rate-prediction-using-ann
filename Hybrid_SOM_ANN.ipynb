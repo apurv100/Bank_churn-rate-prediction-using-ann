{
  "nbformat": 4,
  "nbformat_minor": 0,
  "metadata": {
    "colab": {
      "name": "Hybrid_SOM_ANN.ipynb",
      "provenance": [],
      "authorship_tag": "ABX9TyP/+g+bVkPYf7seKTss76No",
      "include_colab_link": true
    },
    "kernelspec": {
      "name": "python3",
      "display_name": "Python 3"
    }
  },
  "cells": [
    {
      "cell_type": "markdown",
      "metadata": {
        "id": "view-in-github",
        "colab_type": "text"
      },
      "source": [
        "<a href=\"https://colab.research.google.com/github/apurv100/Bank_churn-rate-prediction-using-ann/blob/master/Hybrid_SOM_ANN.ipynb\" target=\"_parent\"><img src=\"https://colab.research.google.com/assets/colab-badge.svg\" alt=\"Open In Colab\"/></a>"
      ]
    },
    {
      "cell_type": "markdown",
      "metadata": {
        "id": "GJYk9gRO_W9P",
        "colab_type": "text"
      },
      "source": [
        "#Mega Case Study - Making a hybrid Deep Learning Model"
      ]
    },
    {
      "cell_type": "markdown",
      "metadata": {
        "id": "D8PA8C_X_fHe",
        "colab_type": "text"
      },
      "source": [
        "#Part 1 - SOM"
      ]
    },
    {
      "cell_type": "markdown",
      "metadata": {
        "colab_type": "text",
        "id": "48btSZ8cAAVt"
      },
      "source": [
        "##Install MiniSom Package"
      ]
    },
    {
      "cell_type": "code",
      "metadata": {
        "id": "er_ay9v6Gt6Q",
        "colab_type": "code",
        "colab": {
          "base_uri": "https://localhost:8080/",
          "height": 193
        },
        "outputId": "27955346-dfdd-426b-d831-7a7de14bc962"
      },
      "source": [
        "!pip install MiniSom"
      ],
      "execution_count": 1,
      "outputs": [
        {
          "output_type": "stream",
          "text": [
            "Collecting MiniSom\n",
            "  Downloading https://files.pythonhosted.org/packages/9d/10/a1c1621000d5ca00c41695689551c1a4d6d245d7bbf099d81e067da3e8f2/MiniSom-2.2.6.tar.gz\n",
            "Building wheels for collected packages: MiniSom\n",
            "  Building wheel for MiniSom (setup.py) ... \u001b[?25l\u001b[?25hdone\n",
            "  Created wheel for MiniSom: filename=MiniSom-2.2.6-cp36-none-any.whl size=8525 sha256=772767e120d430cfc3561bc6610eefa5e44b74b93573cea287a6dc7bd08fda13\n",
            "  Stored in directory: /root/.cache/pip/wheels/b8/c6/01/330066e36e1f7c826c96f656f9185822cfcdef0591315949ea\n",
            "Successfully built MiniSom\n",
            "Installing collected packages: MiniSom\n",
            "Successfully installed MiniSom-2.2.6\n"
          ],
          "name": "stdout"
        }
      ]
    },
    {
      "cell_type": "markdown",
      "metadata": {
        "colab_type": "text",
        "id": "y2L7M7QLAAVx"
      },
      "source": [
        "## Importing the libraries\n"
      ]
    },
    {
      "cell_type": "code",
      "metadata": {
        "colab_type": "code",
        "id": "zy0_GMcbAAVx",
        "colab": {}
      },
      "source": [
        "import numpy as np\n",
        "import pandas as pd\n",
        "import matplotlib.pyplot as plt"
      ],
      "execution_count": 2,
      "outputs": []
    },
    {
      "cell_type": "markdown",
      "metadata": {
        "colab_type": "text",
        "id": "M74YAQUJAAVz"
      },
      "source": [
        "## Importing the dataset"
      ]
    },
    {
      "cell_type": "code",
      "metadata": {
        "colab_type": "code",
        "id": "oP387iJvAAV0",
        "colab": {}
      },
      "source": [
        "dataset = pd.read_csv('Credit_Card_Applications.csv')\n",
        "X = dataset.iloc[:, :-1].values \n",
        "y = dataset.iloc[:, -1].values"
      ],
      "execution_count": 3,
      "outputs": []
    },
    {
      "cell_type": "code",
      "metadata": {
        "id": "xq27kK6HHAOd",
        "colab_type": "code",
        "colab": {
          "base_uri": "https://localhost:8080/",
          "height": 202
        },
        "outputId": "62ea4e3b-8153-42db-fadc-71c283c90cab"
      },
      "source": [
        "dataset.head()"
      ],
      "execution_count": 4,
      "outputs": [
        {
          "output_type": "execute_result",
          "data": {
            "text/html": [
              "<div>\n",
              "<style scoped>\n",
              "    .dataframe tbody tr th:only-of-type {\n",
              "        vertical-align: middle;\n",
              "    }\n",
              "\n",
              "    .dataframe tbody tr th {\n",
              "        vertical-align: top;\n",
              "    }\n",
              "\n",
              "    .dataframe thead th {\n",
              "        text-align: right;\n",
              "    }\n",
              "</style>\n",
              "<table border=\"1\" class=\"dataframe\">\n",
              "  <thead>\n",
              "    <tr style=\"text-align: right;\">\n",
              "      <th></th>\n",
              "      <th>CustomerID</th>\n",
              "      <th>A1</th>\n",
              "      <th>A2</th>\n",
              "      <th>A3</th>\n",
              "      <th>A4</th>\n",
              "      <th>A5</th>\n",
              "      <th>A6</th>\n",
              "      <th>A7</th>\n",
              "      <th>A8</th>\n",
              "      <th>A9</th>\n",
              "      <th>A10</th>\n",
              "      <th>A11</th>\n",
              "      <th>A12</th>\n",
              "      <th>A13</th>\n",
              "      <th>A14</th>\n",
              "      <th>Class</th>\n",
              "    </tr>\n",
              "  </thead>\n",
              "  <tbody>\n",
              "    <tr>\n",
              "      <th>0</th>\n",
              "      <td>15776156</td>\n",
              "      <td>1</td>\n",
              "      <td>22.08</td>\n",
              "      <td>11.46</td>\n",
              "      <td>2</td>\n",
              "      <td>4</td>\n",
              "      <td>4</td>\n",
              "      <td>1.585</td>\n",
              "      <td>0</td>\n",
              "      <td>0</td>\n",
              "      <td>0</td>\n",
              "      <td>1</td>\n",
              "      <td>2</td>\n",
              "      <td>100</td>\n",
              "      <td>1213</td>\n",
              "      <td>0</td>\n",
              "    </tr>\n",
              "    <tr>\n",
              "      <th>1</th>\n",
              "      <td>15739548</td>\n",
              "      <td>0</td>\n",
              "      <td>22.67</td>\n",
              "      <td>7.00</td>\n",
              "      <td>2</td>\n",
              "      <td>8</td>\n",
              "      <td>4</td>\n",
              "      <td>0.165</td>\n",
              "      <td>0</td>\n",
              "      <td>0</td>\n",
              "      <td>0</td>\n",
              "      <td>0</td>\n",
              "      <td>2</td>\n",
              "      <td>160</td>\n",
              "      <td>1</td>\n",
              "      <td>0</td>\n",
              "    </tr>\n",
              "    <tr>\n",
              "      <th>2</th>\n",
              "      <td>15662854</td>\n",
              "      <td>0</td>\n",
              "      <td>29.58</td>\n",
              "      <td>1.75</td>\n",
              "      <td>1</td>\n",
              "      <td>4</td>\n",
              "      <td>4</td>\n",
              "      <td>1.250</td>\n",
              "      <td>0</td>\n",
              "      <td>0</td>\n",
              "      <td>0</td>\n",
              "      <td>1</td>\n",
              "      <td>2</td>\n",
              "      <td>280</td>\n",
              "      <td>1</td>\n",
              "      <td>0</td>\n",
              "    </tr>\n",
              "    <tr>\n",
              "      <th>3</th>\n",
              "      <td>15687688</td>\n",
              "      <td>0</td>\n",
              "      <td>21.67</td>\n",
              "      <td>11.50</td>\n",
              "      <td>1</td>\n",
              "      <td>5</td>\n",
              "      <td>3</td>\n",
              "      <td>0.000</td>\n",
              "      <td>1</td>\n",
              "      <td>1</td>\n",
              "      <td>11</td>\n",
              "      <td>1</td>\n",
              "      <td>2</td>\n",
              "      <td>0</td>\n",
              "      <td>1</td>\n",
              "      <td>1</td>\n",
              "    </tr>\n",
              "    <tr>\n",
              "      <th>4</th>\n",
              "      <td>15715750</td>\n",
              "      <td>1</td>\n",
              "      <td>20.17</td>\n",
              "      <td>8.17</td>\n",
              "      <td>2</td>\n",
              "      <td>6</td>\n",
              "      <td>4</td>\n",
              "      <td>1.960</td>\n",
              "      <td>1</td>\n",
              "      <td>1</td>\n",
              "      <td>14</td>\n",
              "      <td>0</td>\n",
              "      <td>2</td>\n",
              "      <td>60</td>\n",
              "      <td>159</td>\n",
              "      <td>1</td>\n",
              "    </tr>\n",
              "  </tbody>\n",
              "</table>\n",
              "</div>"
            ],
            "text/plain": [
              "   CustomerID  A1     A2     A3  A4  A5  ...  A10  A11  A12  A13   A14  Class\n",
              "0    15776156   1  22.08  11.46   2   4  ...    0    1    2  100  1213      0\n",
              "1    15739548   0  22.67   7.00   2   8  ...    0    0    2  160     1      0\n",
              "2    15662854   0  29.58   1.75   1   4  ...    0    1    2  280     1      0\n",
              "3    15687688   0  21.67  11.50   1   5  ...   11    1    2    0     1      1\n",
              "4    15715750   1  20.17   8.17   2   6  ...   14    0    2   60   159      1\n",
              "\n",
              "[5 rows x 16 columns]"
            ]
          },
          "metadata": {
            "tags": []
          },
          "execution_count": 4
        }
      ]
    },
    {
      "cell_type": "code",
      "metadata": {
        "id": "GEJ7jTZkHDAL",
        "colab_type": "code",
        "colab": {
          "base_uri": "https://localhost:8080/",
          "height": 35
        },
        "outputId": "fddf94e8-7402-49ae-806d-6e47aab3ec8e"
      },
      "source": [
        "dataset.shape"
      ],
      "execution_count": 5,
      "outputs": [
        {
          "output_type": "execute_result",
          "data": {
            "text/plain": [
              "(690, 16)"
            ]
          },
          "metadata": {
            "tags": []
          },
          "execution_count": 5
        }
      ]
    },
    {
      "cell_type": "code",
      "metadata": {
        "id": "HpRPmGW4Qtzr",
        "colab_type": "code",
        "colab": {
          "base_uri": "https://localhost:8080/",
          "height": 35
        },
        "outputId": "b0705672-6a9a-4086-e892-3bc6222f0eef"
      },
      "source": [
        "dataset[dataset['Class']==0]['Class'].count()"
      ],
      "execution_count": 27,
      "outputs": [
        {
          "output_type": "execute_result",
          "data": {
            "text/plain": [
              "383"
            ]
          },
          "metadata": {
            "tags": []
          },
          "execution_count": 27
        }
      ]
    },
    {
      "cell_type": "code",
      "metadata": {
        "id": "cm7EB5x4RA12",
        "colab_type": "code",
        "colab": {
          "base_uri": "https://localhost:8080/",
          "height": 35
        },
        "outputId": "12671587-352a-4bdf-91c3-b927e300779b"
      },
      "source": [
        "dataset[dataset['Class']==1]['Class'].count()"
      ],
      "execution_count": 28,
      "outputs": [
        {
          "output_type": "execute_result",
          "data": {
            "text/plain": [
              "307"
            ]
          },
          "metadata": {
            "tags": []
          },
          "execution_count": 28
        }
      ]
    },
    {
      "cell_type": "markdown",
      "metadata": {
        "colab_type": "text",
        "id": "xaNRHZwYAAV2"
      },
      "source": [
        "## Feature Scaling\n"
      ]
    },
    {
      "cell_type": "code",
      "metadata": {
        "colab_type": "code",
        "id": "57QK6WXTAAV3",
        "colab": {}
      },
      "source": [
        "from sklearn.preprocessing import MinMaxScaler\n",
        "sc = MinMaxScaler(feature_range = (0,1))\n",
        "X = sc.fit_transform(X)"
      ],
      "execution_count": 6,
      "outputs": []
    },
    {
      "cell_type": "code",
      "metadata": {
        "id": "T-cjpfw1Hdy7",
        "colab_type": "code",
        "colab": {
          "base_uri": "https://localhost:8080/",
          "height": 243
        },
        "outputId": "d1d04b4d-60ca-46c7-fc91-ce8c5c275408"
      },
      "source": [
        "X[::]"
      ],
      "execution_count": 8,
      "outputs": [
        {
          "output_type": "execute_result",
          "data": {
            "text/plain": [
              "array([[8.42681467e-01, 1.00000000e+00, 1.25263158e-01, ...,\n",
              "        5.00000000e-01, 5.00000000e-02, 1.21200000e-02],\n",
              "       [6.96090562e-01, 0.00000000e+00, 1.34135338e-01, ...,\n",
              "        5.00000000e-01, 8.00000000e-02, 0.00000000e+00],\n",
              "       [3.88981656e-01, 0.00000000e+00, 2.38045113e-01, ...,\n",
              "        5.00000000e-01, 1.40000000e-01, 0.00000000e+00],\n",
              "       ...,\n",
              "       [4.39420332e-01, 0.00000000e+00, 7.63909774e-02, ...,\n",
              "        5.00000000e-01, 5.00000000e-02, 0.00000000e+00],\n",
              "       [8.44034934e-01, 0.00000000e+00, 2.05563910e-01, ...,\n",
              "        5.00000000e-01, 6.00000000e-02, 1.10000000e-04],\n",
              "       [1.06907888e-01, 1.00000000e+00, 4.09774436e-01, ...,\n",
              "        0.00000000e+00, 2.80000000e-01, 0.00000000e+00]])"
            ]
          },
          "metadata": {
            "tags": []
          },
          "execution_count": 8
        }
      ]
    },
    {
      "cell_type": "markdown",
      "metadata": {
        "colab_type": "text",
        "id": "WyD5sEHYAAV5"
      },
      "source": [
        "##Training the SOM\n"
      ]
    },
    {
      "cell_type": "code",
      "metadata": {
        "id": "I1hK1sHPHorl",
        "colab_type": "code",
        "colab": {}
      },
      "source": [
        "from minisom import MiniSom"
      ],
      "execution_count": 29,
      "outputs": []
    },
    {
      "cell_type": "code",
      "metadata": {
        "id": "R5dR4ynZIHFY",
        "colab_type": "code",
        "colab": {}
      },
      "source": [
        "som = MiniSom(x=10, y=10, input_len= 15, sigma= 1.0, learning_rate = 0.5)\n",
        "## to be more precise one can increase the maps dimension(x,y) but here its fine we have low no. of observations\n",
        "## we are basically finding outliers in our dataset which will be the frauds for us.\n",
        "## the map finds the outliers by telling us the mean interneuron distances(MID) between winning node and others of them and plottting the map we can easily spot them\n",
        "som.random_weights_init(X)\n",
        "## for initalizing the weights or in this case of SOM we say charateristic plot point of input features.\n",
        "som.train_random(data = X, num_iteration = 100)"
      ],
      "execution_count": 34,
      "outputs": []
    },
    {
      "cell_type": "code",
      "metadata": {
        "id": "dTHEynlwKa7J",
        "colab_type": "code",
        "colab": {
          "base_uri": "https://localhost:8080/",
          "height": 269
        },
        "outputId": "8c8300c9-0673-4601-f5fa-73d741554140"
      },
      "source": [
        "from pylab import bone, pcolor, colorbar, plot, show\n",
        "bone()\n",
        "pcolor(som.distance_map().T)\n",
        "colorbar()\n",
        "markers = ['o', 's']\n",
        "colors = ['r', 'g']\n",
        "for i, x in enumerate(X):\n",
        "    w = som.winner(x)\n",
        "    plot(w[0] + 0.5,\n",
        "         w[1] + 0.5,\n",
        "         markers[y[i]],\n",
        "         markeredgecolor = colors[y[i]],\n",
        "         markerfacecolor = 'None',\n",
        "         markersize = 10,\n",
        "         markeredgewidth = 2)\n",
        "show()"
      ],
      "execution_count": 35,
      "outputs": [
        {
          "output_type": "display_data",
          "data": {
            "image/png": "[encoded data removed]",
            "text/plain": [
              "<Figure size 432x288 with 2 Axes>"
            ]
          },
          "metadata": {
            "tags": [],
            "needs_background": "light"
          }
        }
      ]
    },
    {
      "cell_type": "markdown",
      "metadata": {
        "colab_type": "text",
        "id": "gijZkcIGAAWA"
      },
      "source": [
        "## Finding the frauds\n"
      ]
    },
    {
      "cell_type": "code",
      "metadata": {
        "colab_type": "code",
        "id": "EJIH9sDvAAWA",
        "colab": {}
      },
      "source": [
        "mappings = som.win_map(X)\n",
        "frauds = np.concatenate((mappings[(3,8)], mappings[(2,8)]), axis = 0)\n",
        "frauds = sc.inverse_transform(frauds)"
      ],
      "execution_count": 36,
      "outputs": []
    },
    {
      "cell_type": "markdown",
      "metadata": {
        "colab_type": "text",
        "id": "EOVO2DzCAAWD"
      },
      "source": [
        "##Printing the Fraunch Clients"
      ]
    },
    {
      "cell_type": "code",
      "metadata": {
        "id": "U90Lw0MMLn8L",
        "colab_type": "code",
        "colab": {
          "base_uri": "https://localhost:8080/",
          "height": 797
        },
        "outputId": "e76405c4-1017-4c1a-af8b-e97e1fe97824"
      },
      "source": [
        "print('Fraud Customer IDs')\n",
        "j=0\n",
        "for i in frauds[:, 0]:\n",
        "  print(int(i))\n",
        "  j=j+1\n",
        "print(j)"
      ],
      "execution_count": 37,
      "outputs": [
        {
          "output_type": "stream",
          "text": [
            "Fraud Customer IDs\n",
            "15590434\n",
            "15567839\n",
            "15671014\n",
            "15579583\n",
            "15642336\n",
            "15740487\n",
            "15702571\n",
            "15622083\n",
            "15689692\n",
            "15672357\n",
            "15796813\n",
            "15731166\n",
            "15649379\n",
            "15587297\n",
            "15797246\n",
            "15800773\n",
            "15729771\n",
            "15609823\n",
            "15614813\n",
            "15701687\n",
            "15706268\n",
            "15653147\n",
            "15735572\n",
            "15751167\n",
            "15778142\n",
            "15721507\n",
            "15802106\n",
            "15625501\n",
            "15812918\n",
            "15715519\n",
            "15636562\n",
            "15711249\n",
            "15812766\n",
            "15784526\n",
            "15687765\n",
            "15658504\n",
            "15757306\n",
            "15700046\n",
            "15569595\n",
            "15587443\n",
            "15769356\n",
            "15665181\n",
            "15808223\n",
            "43\n"
          ],
          "name": "stdout"
        }
      ]
    },
    {
      "cell_type": "markdown",
      "metadata": {
        "id": "-9oatjNmAC8i",
        "colab_type": "text"
      },
      "source": [
        "#Part 2 - Going from Unsupervised to Supervised Deep Learning"
      ]
    },
    {
      "cell_type": "markdown",
      "metadata": {
        "id": "eDv-ecVtAtwU",
        "colab_type": "text"
      },
      "source": [
        "##Create Matrix of Features"
      ]
    },
    {
      "cell_type": "code",
      "metadata": {
        "id": "h3ADq7HsA3Sh",
        "colab_type": "code",
        "colab": {}
      },
      "source": [
        "customers = dataset.iloc[:, 1:].values"
      ],
      "execution_count": 38,
      "outputs": []
    },
    {
      "cell_type": "markdown",
      "metadata": {
        "id": "ycrQvNAvBAng",
        "colab_type": "text"
      },
      "source": [
        "## Create Dependent Variable"
      ]
    },
    {
      "cell_type": "code",
      "metadata": {
        "id": "Dt1TQG3NBFDM",
        "colab_type": "code",
        "colab": {}
      },
      "source": [
        "is_fraud = np.zeros(len(dataset))\n",
        "for i in range(len(dataset)):\n",
        "  if dataset.iloc[i,0] in frauds:\n",
        "    is_fraud[i] = 1"
      ],
      "execution_count": 39,
      "outputs": []
    },
    {
      "cell_type": "markdown",
      "metadata": {
        "id": "OgQBLi0iBsji",
        "colab_type": "text"
      },
      "source": [
        "#Part 3 - ANN"
      ]
    },
    {
      "cell_type": "markdown",
      "metadata": {
        "id": "RE_FcHyfV3TQ",
        "colab_type": "text"
      },
      "source": [
        "### Feature Scaling"
      ]
    },
    {
      "cell_type": "code",
      "metadata": {
        "id": "ViCrE00rV8Sk",
        "colab_type": "code",
        "colab": {}
      },
      "source": [
        "from sklearn.preprocessing import StandardScaler\n",
        "sc = StandardScaler()\n",
        "customers = sc.fit_transform(customers)"
      ],
      "execution_count": 40,
      "outputs": []
    },
    {
      "cell_type": "markdown",
      "metadata": {
        "id": "-zfEzkRVXIwF",
        "colab_type": "text"
      },
      "source": [
        "## Building the ANN"
      ]
    },
    {
      "cell_type": "markdown",
      "metadata": {
        "id": "S5-uTVVvCcTf",
        "colab_type": "text"
      },
      "source": [
        "##Import Tensorflow"
      ]
    },
    {
      "cell_type": "code",
      "metadata": {
        "id": "epGMEkDTSRna",
        "colab_type": "code",
        "colab": {
          "base_uri": "https://localhost:8080/",
          "height": 35
        },
        "outputId": "6de6c071-080f-4e8f-a6f7-330ca16ea66e"
      },
      "source": [
        "import tensorflow as tf\n",
        "tf.__version__"
      ],
      "execution_count": 47,
      "outputs": [
        {
          "output_type": "execute_result",
          "data": {
            "application/vnd.google.colaboratory.intrinsic+json": {
              "type": "string"
            },
            "text/plain": [
              "'2.2.0'"
            ]
          },
          "metadata": {
            "tags": []
          },
          "execution_count": 47
        }
      ]
    },
    {
      "cell_type": "markdown",
      "metadata": {
        "id": "KvdeScabXtlB",
        "colab_type": "text"
      },
      "source": [
        "## Initializing the ANN"
      ]
    },
    {
      "cell_type": "code",
      "metadata": {
        "id": "3dtrScHxXQox",
        "colab_type": "code",
        "colab": {}
      },
      "source": [
        "ann = tf.keras.models.Sequential()"
      ],
      "execution_count": 48,
      "outputs": []
    },
    {
      "cell_type": "markdown",
      "metadata": {
        "id": "rP6urV6SX7kS",
        "colab_type": "text"
      },
      "source": [
        "##Adding the input layer and the first hidden layer"
      ]
    },
    {
      "cell_type": "code",
      "metadata": {
        "id": "bppGycBXYCQr",
        "colab_type": "code",
        "colab": {}
      },
      "source": [
        "ann.add(tf.keras.layers.Dense(units=2, activation='relu'))"
      ],
      "execution_count": 49,
      "outputs": []
    },
    {
      "cell_type": "markdown",
      "metadata": {
        "id": "OyNEe6RXYcU4",
        "colab_type": "text"
      },
      "source": [
        "## Adding the output layer"
      ]
    },
    {
      "cell_type": "code",
      "metadata": {
        "id": "Cn3x41RBYfvY",
        "colab_type": "code",
        "colab": {}
      },
      "source": [
        "ann.add(tf.keras.layers.Dense(units=1, activation='sigmoid'))"
      ],
      "execution_count": 50,
      "outputs": []
    },
    {
      "cell_type": "markdown",
      "metadata": {
        "id": "JT4u2S1_Y4WG",
        "colab_type": "text"
      },
      "source": [
        "## Training the ANN"
      ]
    },
    {
      "cell_type": "markdown",
      "metadata": {
        "id": "8GWlJChhY_ZI",
        "colab_type": "text"
      },
      "source": [
        "## Compiling the ANN"
      ]
    },
    {
      "cell_type": "code",
      "metadata": {
        "id": "fG3RrwDXZEaS",
        "colab_type": "code",
        "colab": {}
      },
      "source": [
        "ann.compile(optimizer = 'adam', loss = 'binary_crossentropy', metrics = ['accuracy'])"
      ],
      "execution_count": 51,
      "outputs": []
    },
    {
      "cell_type": "markdown",
      "metadata": {
        "id": "0QR_G5u7ZLSM",
        "colab_type": "text"
      },
      "source": [
        "## Training the ANN on the Training set"
      ]
    },
    {
      "cell_type": "code",
      "metadata": {
        "id": "4WNEWf77S_fr",
        "colab_type": "code",
        "colab": {
          "base_uri": "https://localhost:8080/",
          "height": 728
        },
        "outputId": "18877d9b-c239-4d05-8abe-da023c776b2a"
      },
      "source": [
        "ann.fit(customers, is_fraud, batch_size = 1, epochs = 20)"
      ],
      "execution_count": 52,
      "outputs": [
        {
          "output_type": "stream",
          "text": [
            "Epoch 1/20\n",
            "690/690 [==============================] - 1s 937us/step - loss: 0.4972 - accuracy: 0.9159\n",
            "Epoch 2/20\n",
            "690/690 [==============================] - 1s 961us/step - loss: 0.3593 - accuracy: 0.9377\n",
            "Epoch 3/20\n",
            "690/690 [==============================] - 1s 898us/step - loss: 0.2777 - accuracy: 0.9377\n",
            "Epoch 4/20\n",
            "690/690 [==============================] - 1s 935us/step - loss: 0.2324 - accuracy: 0.9377\n",
            "Epoch 5/20\n",
            "690/690 [==============================] - 1s 920us/step - loss: 0.2044 - accuracy: 0.9377\n",
            "Epoch 6/20\n",
            "690/690 [==============================] - 1s 940us/step - loss: 0.1854 - accuracy: 0.9377\n",
            "Epoch 7/20\n",
            "690/690 [==============================] - 1s 895us/step - loss: 0.1721 - accuracy: 0.9377\n",
            "Epoch 8/20\n",
            "690/690 [==============================] - 1s 938us/step - loss: 0.1612 - accuracy: 0.9377\n",
            "Epoch 9/20\n",
            "690/690 [==============================] - 1s 928us/step - loss: 0.1525 - accuracy: 0.9377\n",
            "Epoch 10/20\n",
            "690/690 [==============================] - 1s 928us/step - loss: 0.1452 - accuracy: 0.9377\n",
            "Epoch 11/20\n",
            "690/690 [==============================] - 1s 942us/step - loss: 0.1400 - accuracy: 0.9377\n",
            "Epoch 12/20\n",
            "690/690 [==============================] - 1s 945us/step - loss: 0.1357 - accuracy: 0.9377\n",
            "Epoch 13/20\n",
            "690/690 [==============================] - 1s 930us/step - loss: 0.1321 - accuracy: 0.9377\n",
            "Epoch 14/20\n",
            "690/690 [==============================] - 1s 920us/step - loss: 0.1280 - accuracy: 0.9377\n",
            "Epoch 15/20\n",
            "690/690 [==============================] - 1s 910us/step - loss: 0.1238 - accuracy: 0.9377\n",
            "Epoch 16/20\n",
            "690/690 [==============================] - 1s 973us/step - loss: 0.1195 - accuracy: 0.9377\n",
            "Epoch 17/20\n",
            "690/690 [==============================] - 1s 967us/step - loss: 0.1161 - accuracy: 0.9377\n",
            "Epoch 18/20\n",
            "690/690 [==============================] - 1s 936us/step - loss: 0.1126 - accuracy: 0.9377\n",
            "Epoch 19/20\n",
            "690/690 [==============================] - 1s 934us/step - loss: 0.1090 - accuracy: 0.9377\n",
            "Epoch 20/20\n",
            "690/690 [==============================] - 1s 945us/step - loss: 0.1055 - accuracy: 0.9377\n"
          ],
          "name": "stdout"
        },
        {
          "output_type": "execute_result",
          "data": {
            "text/plain": [
              "<tensorflow.python.keras.callbacks.History at 0x7fe5864fdb00>"
            ]
          },
          "metadata": {
            "tags": []
          },
          "execution_count": 52
        }
      ]
    },
    {
      "cell_type": "markdown",
      "metadata": {
        "id": "tJj5k2MxZga3",
        "colab_type": "text"
      },
      "source": [
        "## Predicting test set results"
      ]
    },
    {
      "cell_type": "code",
      "metadata": {
        "id": "FWCx3WN8U6ss",
        "colab_type": "code",
        "colab": {}
      },
      "source": [
        "y_pred=ann.predict(customers)"
      ],
      "execution_count": 55,
      "outputs": []
    },
    {
      "cell_type": "code",
      "metadata": {
        "id": "_3L4QA4TVgpr",
        "colab_type": "code",
        "colab": {}
      },
      "source": [
        "y_pred=np.concatenate((dataset.iloc[:,0:1].values,y_pred),axis=1)"
      ],
      "execution_count": 57,
      "outputs": []
    },
    {
      "cell_type": "code",
      "metadata": {
        "id": "MNch5aOrVxrq",
        "colab_type": "code",
        "colab": {
          "base_uri": "https://localhost:8080/",
          "height": 139
        },
        "outputId": "a755e513-0150-4de7-f1cd-a97aa8865928"
      },
      "source": [
        "y_pred"
      ],
      "execution_count": 58,
      "outputs": [
        {
          "output_type": "execute_result",
          "data": {
            "text/plain": [
              "array([[1.57761560e+07, 1.00519801e-05],\n",
              "       [1.57395480e+07, 1.14028156e-02],\n",
              "       [1.56628540e+07, 2.76750326e-03],\n",
              "       ...,\n",
              "       [1.56754500e+07, 3.63345265e-01],\n",
              "       [1.57764940e+07, 5.23012411e-03],\n",
              "       [1.55924120e+07, 9.41878534e-06]])"
            ]
          },
          "metadata": {
            "tags": []
          },
          "execution_count": 58
        }
      ]
    },
    {
      "cell_type": "code",
      "metadata": {
        "id": "ouI2xxzmWKOa",
        "colab_type": "code",
        "colab": {
          "base_uri": "https://localhost:8080/",
          "height": 35
        },
        "outputId": "3ab8222f-89f7-4e77-80a9-19c89ea772e8"
      },
      "source": [
        "y_pred.shape"
      ],
      "execution_count": 59,
      "outputs": [
        {
          "output_type": "execute_result",
          "data": {
            "text/plain": [
              "(690, 2)"
            ]
          },
          "metadata": {
            "tags": []
          },
          "execution_count": 59
        }
      ]
    },
    {
      "cell_type": "code",
      "metadata": {
        "id": "GOcFvpS2WqbA",
        "colab_type": "code",
        "colab": {}
      },
      "source": [
        "y_pred=y_pred[y_pred[:,1].argsort()]"
      ],
      "execution_count": 60,
      "outputs": []
    },
    {
      "cell_type": "code",
      "metadata": {
        "id": "5gqZ4T7IW3Y4",
        "colab_type": "code",
        "colab": {
          "base_uri": "https://localhost:8080/",
          "height": 35
        },
        "outputId": "1548297c-bf4a-49cd-9848-71f9edadb56e"
      },
      "source": [
        "type(y_pred)"
      ],
      "execution_count": 61,
      "outputs": [
        {
          "output_type": "execute_result",
          "data": {
            "text/plain": [
              "numpy.ndarray"
            ]
          },
          "metadata": {
            "tags": []
          },
          "execution_count": 61
        }
      ]
    },
    {
      "cell_type": "code",
      "metadata": {
        "id": "0vZgUOhhW71t",
        "colab_type": "code",
        "colab": {}
      },
      "source": [
        "y_pred=pd.DataFrame(y_pred,columns=['Customer id','probablity of fraud'])"
      ],
      "execution_count": 62,
      "outputs": []
    },
    {
      "cell_type": "code",
      "metadata": {
        "id": "EypW2A-bXN5U",
        "colab_type": "code",
        "colab": {
          "base_uri": "https://localhost:8080/",
          "height": 202
        },
        "outputId": "640bbd61-6312-42e1-97a5-a7c6c535dea7"
      },
      "source": [
        "y_pred.head()"
      ],
      "execution_count": 63,
      "outputs": [
        {
          "output_type": "execute_result",
          "data": {
            "text/html": [
              "<div>\n",
              "<style scoped>\n",
              "    .dataframe tbody tr th:only-of-type {\n",
              "        vertical-align: middle;\n",
              "    }\n",
              "\n",
              "    .dataframe tbody tr th {\n",
              "        vertical-align: top;\n",
              "    }\n",
              "\n",
              "    .dataframe thead th {\n",
              "        text-align: right;\n",
              "    }\n",
              "</style>\n",
              "<table border=\"1\" class=\"dataframe\">\n",
              "  <thead>\n",
              "    <tr style=\"text-align: right;\">\n",
              "      <th></th>\n",
              "      <th>Customer id</th>\n",
              "      <th>probablity of fraud</th>\n",
              "    </tr>\n",
              "  </thead>\n",
              "  <tbody>\n",
              "    <tr>\n",
              "      <th>0</th>\n",
              "      <td>15621423.0</td>\n",
              "      <td>1.365361e-19</td>\n",
              "    </tr>\n",
              "    <tr>\n",
              "      <th>1</th>\n",
              "      <td>15799785.0</td>\n",
              "      <td>1.341742e-14</td>\n",
              "    </tr>\n",
              "    <tr>\n",
              "      <th>2</th>\n",
              "      <td>15706394.0</td>\n",
              "      <td>1.732332e-09</td>\n",
              "    </tr>\n",
              "    <tr>\n",
              "      <th>3</th>\n",
              "      <td>15790113.0</td>\n",
              "      <td>1.856423e-09</td>\n",
              "    </tr>\n",
              "    <tr>\n",
              "      <th>4</th>\n",
              "      <td>15705379.0</td>\n",
              "      <td>2.686918e-09</td>\n",
              "    </tr>\n",
              "  </tbody>\n",
              "</table>\n",
              "</div>"
            ],
            "text/plain": [
              "   Customer id  probablity of fraud\n",
              "0   15621423.0         1.365361e-19\n",
              "1   15799785.0         1.341742e-14\n",
              "2   15706394.0         1.732332e-09\n",
              "3   15790113.0         1.856423e-09\n",
              "4   15705379.0         2.686918e-09"
            ]
          },
          "metadata": {
            "tags": []
          },
          "execution_count": 63
        }
      ]
    },
    {
      "cell_type": "code",
      "metadata": {
        "id": "XsSvqNINXQNf",
        "colab_type": "code",
        "colab": {}
      },
      "source": [
        "y_pred.to_csv(\"fraud_probablity.csv\")"
      ],
      "execution_count": 64,
      "outputs": []
    },
    {
      "cell_type": "code",
      "metadata": {
        "id": "K0fGSoaPXg5H",
        "colab_type": "code",
        "colab": {
          "base_uri": "https://localhost:8080/",
          "height": 35
        },
        "outputId": "07f5dac3-2f71-4a26-fa9a-6654e36ef542"
      },
      "source": [
        "ls\n"
      ],
      "execution_count": 65,
      "outputs": [
        {
          "output_type": "stream",
          "text": [
            "Credit_Card_Applications.csv  fraud_probablity.csv  \u001b[0m\u001b[01;34msample_data\u001b[0m/\n"
          ],
          "name": "stdout"
        }
      ]
    },
    {
      "cell_type": "code",
      "metadata": {
        "id": "0D3YG5BOXjJl",
        "colab_type": "code",
        "colab": {}
      },
      "source": [
        ""
      ],
      "execution_count": null,
      "outputs": []
    }
  ]
}